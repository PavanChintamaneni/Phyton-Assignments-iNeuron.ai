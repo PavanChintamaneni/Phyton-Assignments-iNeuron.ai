{
 "cells": [
  {
   "cell_type": "code",
   "execution_count": 13,
   "id": "ae5cd2f5",
   "metadata": {},
   "outputs": [],
   "source": [
    "#1) What are the two values of the Boolean data type? How do you write them?\n",
    "\n",
    "# A) Boolean data types in python have two values., 'True' or 'False' and are written with first letter in uppercase.  "
   ]
  },
  {
   "cell_type": "code",
   "execution_count": null,
   "id": "5dc4d85f",
   "metadata": {},
   "outputs": [],
   "source": [
    "# 2) What are the three different types of Boolean operators?\n",
    "\n",
    "# A) three tyoes of Boolean operators operators in python are,  and; or; not"
   ]
  },
  {
   "cell_type": "code",
   "execution_count": null,
   "id": "98d6588c",
   "metadata": {},
   "outputs": [],
   "source": [
    "# 3) Make a list of each Boolean operator's truth tables (i.e. every possible combination of Boolean values for the operator and what it evaluate ).\n",
    "# A) \n",
    "# True and True .....True\n",
    "# True and False.....False\n",
    "# False and False....False\n",
    "# False and True.....False\n",
    "# True or True ......True\n",
    "# True or False......True\n",
    "# False or False.....False\n",
    "# False or True......True\n",
    "# not True...........False\n",
    "# not False..........True"
   ]
  },
  {
   "cell_type": "code",
   "execution_count": null,
   "id": "5b8e7c7e",
   "metadata": {},
   "outputs": [],
   "source": [
    "# 4) What are the values of the following expressions?\n",
    "   # (5 > 4) and (3 == 5)                      False\n",
    "   # not (5 > 4)                                False\n",
    "   # (5 > 4) or (3 == 5)                       True\n",
    "   # not ((5 > 4) or (3 == 5))                 False \n",
    "   # (True and True) and (True == False)       False\n",
    "   # (not False) or (not True)                 True\n"
   ]
  },
  {
   "cell_type": "code",
   "execution_count": 14,
   "id": "4ea9e6c5",
   "metadata": {},
   "outputs": [
    {
     "data": {
      "text/plain": [
       "False"
      ]
     },
     "execution_count": 14,
     "metadata": {},
     "output_type": "execute_result"
    }
   ],
   "source": [
    "(5 > 4) and (3 == 5)"
   ]
  },
  {
   "cell_type": "code",
   "execution_count": 4,
   "id": "fc61f7a1",
   "metadata": {},
   "outputs": [
    {
     "data": {
      "text/plain": [
       "False"
      ]
     },
     "execution_count": 4,
     "metadata": {},
     "output_type": "execute_result"
    }
   ],
   "source": [
    "not (5>4)"
   ]
  },
  {
   "cell_type": "code",
   "execution_count": 5,
   "id": "e5e225c6",
   "metadata": {},
   "outputs": [
    {
     "data": {
      "text/plain": [
       "True"
      ]
     },
     "execution_count": 5,
     "metadata": {},
     "output_type": "execute_result"
    }
   ],
   "source": [
    "(5 > 4) or (3 == 5)"
   ]
  },
  {
   "cell_type": "code",
   "execution_count": 6,
   "id": "b1899852",
   "metadata": {},
   "outputs": [
    {
     "data": {
      "text/plain": [
       "False"
      ]
     },
     "execution_count": 6,
     "metadata": {},
     "output_type": "execute_result"
    }
   ],
   "source": [
    "not ((5 > 4) or (3 == 5))"
   ]
  },
  {
   "cell_type": "code",
   "execution_count": 7,
   "id": "3335a8f2",
   "metadata": {},
   "outputs": [
    {
     "data": {
      "text/plain": [
       "False"
      ]
     },
     "execution_count": 7,
     "metadata": {},
     "output_type": "execute_result"
    }
   ],
   "source": [
    "(True and True) and (True == False)"
   ]
  },
  {
   "cell_type": "code",
   "execution_count": 8,
   "id": "f0811f5f",
   "metadata": {},
   "outputs": [
    {
     "data": {
      "text/plain": [
       "True"
      ]
     },
     "execution_count": 8,
     "metadata": {},
     "output_type": "execute_result"
    }
   ],
   "source": [
    "(not False) or (not True)"
   ]
  },
  {
   "cell_type": "code",
   "execution_count": null,
   "id": "3cff2e34",
   "metadata": {},
   "outputs": [],
   "source": [
    "# 5) What are the six comparison operators?\n",
    "\n",
    "# A) Six comparison operators in python are\n",
    "# 1) == Equal to\n",
    "# 2) > Greater than\n",
    "# 3) < Less than\n",
    "# 4) >= Greater than or equal to\n",
    "# 5) <= Less than or equal to\n",
    "# 6) != Not equal to"
   ]
  },
  {
   "cell_type": "code",
   "execution_count": 12,
   "id": "20bac813",
   "metadata": {},
   "outputs": [
    {
     "data": {
      "text/plain": [
       "False"
      ]
     },
     "execution_count": 12,
     "metadata": {},
     "output_type": "execute_result"
    }
   ],
   "source": [
    "# 6) How do you tell the difference between the equal to and assignment operators? Describe a condition and when you would use one.\n",
    "\n",
    "# A) assignment operator : =  (it is used to assign a value or store a value; numericals can't be placed to the left of assignmen operator)\n",
    "# equal to            : == ( it is used to compare two values; numericals can be placed on either sides of equal to comparitave opertor)\n",
    "\n",
    "#use of assignment operator\n",
    "a=5\n",
    "b=6\n",
    "# we have assigned numerical values to a & b, using assignment operator\n",
    "# we can compare a & b, by using 'equal to' operator\n",
    "a==b"
   ]
  },
  {
   "cell_type": "code",
   "execution_count": null,
   "id": "5da142ea",
   "metadata": {},
   "outputs": [],
   "source": [
    "# 7) \n",
    "\n",
    "# spam = 0\n",
    "# if spam == 10:\n",
    "# print('eggs')\n",
    "# if spam > 5:\n",
    "# print('bacon')\n",
    "# else:\n",
    "# print('ham')\n",
    "# print('spam')\n",
    "# print('spam')\n",
    "\n",
    "# here in line 3, the position of print statement is not correct, followed by positons of 'print' statement in 5, 7,8,9"
   ]
  },
  {
   "cell_type": "code",
   "execution_count": 16,
   "id": "5dadbf50",
   "metadata": {},
   "outputs": [
    {
     "name": "stdout",
     "output_type": "stream",
     "text": [
      "ham\n",
      "spam\n",
      "spam\n"
     ]
    }
   ],
   "source": [
    "# correct way of representing above\n",
    "spam = 0\n",
    "if spam == 10:\n",
    "    print('eggs')\n",
    "if spam > 5:\n",
    "    print('bacon')\n",
    "else:\n",
    "    print('ham')\n",
    "    print('spam')\n",
    "    print('spam')"
   ]
  },
  {
   "cell_type": "code",
   "execution_count": 24,
   "id": "b1023f79",
   "metadata": {},
   "outputs": [
    {
     "name": "stdout",
     "output_type": "stream",
     "text": [
      "Hello\n"
     ]
    }
   ],
   "source": [
    "#8) Write code that prints Hello if 1 is stored in spam, prints Howdy if 2 is stored in spam, and prints Greetings! if anything else is stored in spam.\n",
    "\n",
    "spam= 1\n",
    "if spam==1:\n",
    "    print (\"Hello\")\n",
    "elif spam == 2:\n",
    "    print('howdy')\n",
    "else:\n",
    "    print ('Greetings')"
   ]
  },
  {
   "cell_type": "code",
   "execution_count": 25,
   "id": "337576b3",
   "metadata": {},
   "outputs": [
    {
     "name": "stdout",
     "output_type": "stream",
     "text": [
      "howdy\n"
     ]
    }
   ],
   "source": [
    "spam= 2\n",
    "if spam==1:\n",
    "    print (\"Hello\")\n",
    "elif spam == 2:\n",
    "    print('howdy')\n",
    "else:\n",
    "    print ('Greetings')"
   ]
  },
  {
   "cell_type": "code",
   "execution_count": 26,
   "id": "cf5ad263",
   "metadata": {},
   "outputs": [
    {
     "name": "stdout",
     "output_type": "stream",
     "text": [
      "Greetings\n"
     ]
    }
   ],
   "source": [
    "spam= 20\n",
    "if spam==1:\n",
    "    print (\"Hello\")\n",
    "elif spam == 2:\n",
    "    print('howdy')\n",
    "else:\n",
    "    print ('Greetings')"
   ]
  },
  {
   "cell_type": "code",
   "execution_count": 36,
   "id": "afa23446",
   "metadata": {},
   "outputs": [],
   "source": [
    "# 9) If your programme is stuck in an endless loop, what keys you’ll press?\n",
    "# A) we have to type ctrl+C"
   ]
  },
  {
   "cell_type": "code",
   "execution_count": 35,
   "id": "90755f30",
   "metadata": {},
   "outputs": [],
   "source": [
    "# 10) How can you tell the difference between break and continue?\n",
    "# a) Break statement will stop the further execution f the loop and returns to next statement, whereas, Continue statement will, execute the loop to start thereafter"
   ]
  },
  {
   "cell_type": "code",
   "execution_count": 3,
   "id": "6ba5b0e7",
   "metadata": {},
   "outputs": [],
   "source": [
    "# 11) In a for loop, what is the difference between range(10), range(0, 10), and range(0, 10, 1)?\n",
    "\n",
    "# in condition range (10); it prints, numbers from 0-10, as we have not specified a starting value\n",
    "# in condition range (0, 10); it prints, numbers from 0-10, and we are instructing here to start printing from '0' 'starting number\n",
    "# in condition range (10); it prints, numbers from 0-10, as we are instructing here to start printing from '0' 'starting number, with increment of '1'\n"
   ]
  },
  {
   "cell_type": "code",
   "execution_count": 33,
   "id": "6b74a46a",
   "metadata": {},
   "outputs": [],
   "source": [
    "# 12) Write a short program that prints the numbers 1 to 10 using a for loop. Then write an equivalent program that prints the numbers 1 to 10 using a while loop."
   ]
  },
  {
   "cell_type": "code",
   "execution_count": 4,
   "id": "1e16a551",
   "metadata": {},
   "outputs": [
    {
     "name": "stdout",
     "output_type": "stream",
     "text": [
      "1\n",
      "2\n",
      "3\n",
      "4\n",
      "5\n",
      "6\n",
      "7\n",
      "8\n",
      "9\n",
      "10\n"
     ]
    }
   ],
   "source": [
    "for a in range(1, 11):\n",
    "    print(a)"
   ]
  },
  {
   "cell_type": "code",
   "execution_count": 2,
   "id": "dbeebb0f",
   "metadata": {},
   "outputs": [
    {
     "name": "stdout",
     "output_type": "stream",
     "text": [
      "1\n",
      "2\n",
      "3\n",
      "4\n",
      "5\n",
      "6\n",
      "7\n",
      "8\n",
      "9\n",
      "10\n"
     ]
    }
   ],
   "source": [
    "b = 1\n",
    "while b <= 10:\n",
    "    print(b)\n",
    "    b += 1"
   ]
  },
  {
   "cell_type": "code",
   "execution_count": 32,
   "id": "a1468a1e",
   "metadata": {},
   "outputs": [],
   "source": [
    "# 13) If you had a function named bacon() inside a module named spam, how would you call it after importing spam?\n",
    "# spam.bacon()"
   ]
  }
 ],
 "metadata": {
  "kernelspec": {
   "display_name": "Python 3 (ipykernel)",
   "language": "python",
   "name": "python3"
  },
  "language_info": {
   "codemirror_mode": {
    "name": "ipython",
    "version": 3
   },
   "file_extension": ".py",
   "mimetype": "text/x-python",
   "name": "python",
   "nbconvert_exporter": "python",
   "pygments_lexer": "ipython3",
   "version": "3.9.7"
  }
 },
 "nbformat": 4,
 "nbformat_minor": 5
}
