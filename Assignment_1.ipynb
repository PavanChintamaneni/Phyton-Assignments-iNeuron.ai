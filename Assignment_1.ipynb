{
 "cells": [
  {
   "cell_type": "code",
   "execution_count": null,
   "id": "5c48ce77",
   "metadata": {},
   "outputs": [],
   "source": [
    "# 1. In the below elements which of them are values or an expression? eg:- values can be integer or string and expressions will be mathematical operators.\n",
    "#* , 'hello', -87.8, - , / , +, 6 \n",
    "# *, ?, -, + are expressions \n",
    "# whereas, ‘hello’, -87.5, 6 are values"
   ]
  },
  {
   "cell_type": "code",
   "execution_count": 6,
   "id": "b0f08d7b",
   "metadata": {},
   "outputs": [],
   "source": [
    "#2. What is the difference between string and variable?\n",
    "#A variable is where we can store information, and string is the data which we are want to store. Simply to say, a variable can be said as an empty box where we can store data and string can be the data stored in empty box.\n",
    "# example: my_name = ’Pavan Kumar Chintamaneni\n",
    "#Here my_name is a variable and ‘ Pavan Kumar Chintamaneni’ is string"
   ]
  },
  {
   "cell_type": "code",
   "execution_count": 7,
   "id": "3e4ab3d4",
   "metadata": {},
   "outputs": [],
   "source": [
    "#3. Describe three different data types.\n",
    "#The three basic data types in python are numeric, variable and boolean"
   ]
  },
  {
   "cell_type": "code",
   "execution_count": 8,
   "id": "fa0478d7",
   "metadata": {},
   "outputs": [],
   "source": [
    "#4. What is an expression made up of? What do all expressions do?\n",
    "#An expression generally is combination of operators, integers, or strings. It will evaluate those combinations and reduce them to a single value. "
   ]
  },
  {
   "cell_type": "code",
   "execution_count": 9,
   "id": "735a71ee",
   "metadata": {},
   "outputs": [],
   "source": [
    "#5. This assignment statements, like spam = 10. What is the difference between an expression and a statement?\n",
    "#An expression helps in evaluating the code to a single value. Whereasstatement refers to instructions given to computer, what to do. "
   ]
  },
  {
   "cell_type": "code",
   "execution_count": 13,
   "id": "83fe1757",
   "metadata": {},
   "outputs": [],
   "source": [
    "# 6. After running the following code, what does the variable bacon contain?\n",
    "# bacon = 22\n",
    "# bacon + 1\n",
    "# In the above code, after running \n",
    "# bacon = 22, \n",
    "# bacon + 1 \n",
    "# sequentially the result will be 23\n"
   ]
  },
  {
   "cell_type": "code",
   "execution_count": 11,
   "id": "c2f07827",
   "metadata": {},
   "outputs": [],
   "source": [
    "bacon=22"
   ]
  },
  {
   "cell_type": "code",
   "execution_count": 12,
   "id": "fa018141",
   "metadata": {},
   "outputs": [
    {
     "data": {
      "text/plain": [
       "23"
      ]
     },
     "execution_count": 12,
     "metadata": {},
     "output_type": "execute_result"
    }
   ],
   "source": [
    "bacon+1"
   ]
  },
  {
   "cell_type": "code",
   "execution_count": 14,
   "id": "97df21ec",
   "metadata": {},
   "outputs": [],
   "source": [
    "# 7. What should the values of the following two terms be?\n",
    "# 'spam' + 'spamspam'\n",
    "# 'spam' * 3\n",
    "# Here, both these result in giving ‘spamspamspam’"
   ]
  },
  {
   "cell_type": "code",
   "execution_count": 15,
   "id": "9caa7943",
   "metadata": {},
   "outputs": [
    {
     "data": {
      "text/plain": [
       "'spamspamspam'"
      ]
     },
     "execution_count": 15,
     "metadata": {},
     "output_type": "execute_result"
    }
   ],
   "source": [
    "'spam'+'spamspam'"
   ]
  },
  {
   "cell_type": "code",
   "execution_count": 16,
   "id": "cd4ffc8a",
   "metadata": {},
   "outputs": [
    {
     "data": {
      "text/plain": [
       "'spamspamspam'"
      ]
     },
     "execution_count": 16,
     "metadata": {},
     "output_type": "execute_result"
    }
   ],
   "source": [
    "'spam'*3"
   ]
  },
  {
   "cell_type": "code",
   "execution_count": 17,
   "id": "d2d17ca9",
   "metadata": {},
   "outputs": [],
   "source": [
    "# 8. Why is eggs a valid variable name while 100 is invalid?\n",
    "# As per rules in python, while naming a variable name, we can’t use all numerical. A variable name can be alphanumerical and can contain A-Z, a-z,0-9. However, a variable name cant start with a numerical. Further we can also use spl characters like ‘_’"
   ]
  },
  {
   "cell_type": "code",
   "execution_count": 18,
   "id": "538e21c5",
   "metadata": {},
   "outputs": [],
   "source": [
    "#9. What three functions can be used to get the integer, floating-point number, or string version of a value?\n",
    "#The three functions can be used to get the integer, floating-point number, or string version of a value are int(), float() and str()"
   ]
  },
  {
   "cell_type": "code",
   "execution_count": 19,
   "id": "2b1c1874",
   "metadata": {},
   "outputs": [],
   "source": [
    "# 10. Why does this expression cause an error? How can you fix it?\n",
    "# 'I have eaten ' + 99 + ' burritos.'\n",
    "# The correct way of writing is \n",
    "# 'I have eaten ' + str(int(99)) + ' burritos.'"
   ]
  },
  {
   "cell_type": "code",
   "execution_count": 20,
   "id": "379007a0",
   "metadata": {},
   "outputs": [
    {
     "ename": "TypeError",
     "evalue": "can only concatenate str (not \"int\") to str",
     "output_type": "error",
     "traceback": [
      "\u001b[1;31m---------------------------------------------------------------------------\u001b[0m",
      "\u001b[1;31mTypeError\u001b[0m                                 Traceback (most recent call last)",
      "\u001b[1;32m~\\AppData\\Local\\Temp/ipykernel_8664/2807567445.py\u001b[0m in \u001b[0;36m<module>\u001b[1;34m\u001b[0m\n\u001b[1;32m----> 1\u001b[1;33m \u001b[1;34m'I have eaten '\u001b[0m \u001b[1;33m+\u001b[0m \u001b[1;36m99\u001b[0m \u001b[1;33m+\u001b[0m \u001b[1;34m' burritos.'\u001b[0m  \u001b[1;31m# incorrect way of expression\u001b[0m\u001b[1;33m\u001b[0m\u001b[1;33m\u001b[0m\u001b[0m\n\u001b[0m",
      "\u001b[1;31mTypeError\u001b[0m: can only concatenate str (not \"int\") to str"
     ]
    }
   ],
   "source": [
    "'I have eaten ' + 99 + ' burritos.'  # incorrect way of expression"
   ]
  },
  {
   "cell_type": "code",
   "execution_count": 21,
   "id": "65c875c4",
   "metadata": {},
   "outputs": [
    {
     "data": {
      "text/plain": [
       "'I have eaten 99 burritos.'"
      ]
     },
     "execution_count": 21,
     "metadata": {},
     "output_type": "execute_result"
    }
   ],
   "source": [
    "'I have eaten ' + str(int(99)) + ' burritos.' #as we have to inlcude interger under concatenations, we need to use function str() as well as int()"
   ]
  }
 ],
 "metadata": {
  "kernelspec": {
   "display_name": "Python 3 (ipykernel)",
   "language": "python",
   "name": "python3"
  },
  "language_info": {
   "codemirror_mode": {
    "name": "ipython",
    "version": 3
   },
   "file_extension": ".py",
   "mimetype": "text/x-python",
   "name": "python",
   "nbconvert_exporter": "python",
   "pygments_lexer": "ipython3",
   "version": "3.9.7"
  }
 },
 "nbformat": 4,
 "nbformat_minor": 5
}
